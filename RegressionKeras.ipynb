{
 "cells": [
  {
   "cell_type": "code",
   "execution_count": null,
   "id": "fd80f7da-03fb-4918-ab9f-d97eb2dcb3f9",
   "metadata": {},
   "outputs": [],
   "source": [
    "import numpy as np\n",
    "import pandas as pd\n",
    "import matplotlib.pyplot as plt\n",
    "import tensorflow as tf\n",
    "import keras\n",
    "from keras import layers\n",
    "from keras import models\n",
    "from keras.datasets import reuters\n",
    "from keras.utils import to_categorical\n",
    "from keras.datasets import boston_housing\n",
    "from keras import regularizers"
   ]
  },
  {
   "cell_type": "code",
   "execution_count": null,
   "id": "afe3ceff-a76b-49db-beb9-f516206ed7a4",
   "metadata": {},
   "outputs": [],
   "source": [
    "def batchNorm(train_data, test_data):\n",
    "    \n",
    "    train = np.copy(train_data)\n",
    "    test = np.copy(test_data)\n",
    "    \n",
    "    mean = train.mean(axis=0)\n",
    "    train -= mean\n",
    "    std = train.std(axis=0)\n",
    "    train /= std\n",
    "\n",
    "    test -= mean\n",
    "    test /= std\n",
    "\n",
    "    return (train, test)\n",
    "\n",
    "\n",
    "def build_model():\n",
    "    model = models.Sequential()\n",
    "    \n",
    "    model.add(layers.Dense(64, activation='relu', input_shape=(13, )))\n",
    "    model.add(layers.Dense(64, activation='relu'))\n",
    "    model.add(layers.Dense(1))\n",
    "    \n",
    "    model.compile(optimizer='rmsprop', loss='mse', metrics=['mae'])\n",
    "    \n",
    "    return model"
   ]
  },
  {
   "cell_type": "code",
   "execution_count": null,
   "id": "94be52c5-6108-414f-8c6d-ad6519273eff",
   "metadata": {},
   "outputs": [],
   "source": [
    "# boston_housing\n",
    "\n",
    "(train_data, train_targets), (test_data, test_targets) = boston_housing.load_data()\n",
    "\n",
    "train_data, test_data = batchNorm(train_data, test_data)\n",
    "\n",
    "k = 3\n",
    "num_val_samples = len(train_data) // k\n",
    "num_epochs = 150\n",
    "all_scores = []\n",
    "all_mae_history = []\n",
    "\n",
    "for i in range(k):\n",
    "    print(f'processing fold: {i}')\n",
    "    val_data = train_data[i * num_val_samples: (i + 1) * num_val_samples]\n",
    "    val_targets = train_targets[i * num_val_samples: (i + 1) * num_val_samples]\n",
    "\n",
    "    partial_train_data = np.concatenate([train_data[:i * (num_val_samples)], train_data[(i + 1) * num_val_samples:]], axis=0)\n",
    "    partial_train_targets = np.concatenate([train_targets[:i * (num_val_samples)], train_targets[(i + 1) * num_val_samples:]], axis=0)\n",
    "\n",
    "    model = build_model()\n",
    "    history = model.fit(partial_train_data, partial_train_targets, epochs=num_epochs, batch_size=1)\n",
    "    mae_history = history.history['mae']\n",
    "    all_mae_history.append(mae_history)\n",
    "\n",
    "average_mae_history = [np.mean([x[i] for x in all_mae_history]) for i in range(num_epochs)]\n",
    "\n",
    "plt.plot(range(1, len(average_mae_history) + 1), average_mae_history)"
   ]
  },
  {
   "cell_type": "code",
   "execution_count": null,
   "id": "a6fa8764-0767-4093-b5b4-7243bbedf2a8",
   "metadata": {},
   "outputs": [],
   "source": [
    "def smooth_curve(points, factor=0.9):\n",
    "    smoothed_points = []\n",
    "    for point in points:\n",
    "        if smoothed_points:\n",
    "            previous = smoothed_points[-1]\n",
    "            smoothed_points.append(previous * factor + point * (1 - factor))\n",
    "        else:\n",
    "            smoothed_points.append(point)\n",
    "    return smoothed_points"
   ]
  },
  {
   "cell_type": "code",
   "execution_count": null,
   "id": "90fae520-3fa8-40f2-8cab-eadc9513742f",
   "metadata": {},
   "outputs": [],
   "source": [
    "smooth_mae_history = smooth_curve(average_mae_history[10:])\n",
    "\n",
    "plt.plot(range(1, len(smooth_mae_history) + 1), smooth_mae_history)"
   ]
  },
  {
   "cell_type": "code",
   "execution_count": null,
   "id": "2853cc64-eadd-4ba3-8365-6e050679758b",
   "metadata": {},
   "outputs": [],
   "source": [
    "model = build_model()\n",
    "model.fit(train_data, train_targets, epochs=80, batch_size=16)\n",
    "test_mse_score, test_mae_score = model.evaluate(test_data, test_targets)\n",
    "print(f'{test_mae_score=}')"
   ]
  }
 ],
 "metadata": {
  "kernelspec": {
   "display_name": "Python 3 (ipykernel)",
   "language": "python",
   "name": "python3"
  },
  "language_info": {
   "codemirror_mode": {
    "name": "ipython",
    "version": 3
   },
   "file_extension": ".py",
   "mimetype": "text/x-python",
   "name": "python",
   "nbconvert_exporter": "python",
   "pygments_lexer": "ipython3",
   "version": "3.10.12"
  }
 },
 "nbformat": 4,
 "nbformat_minor": 5
}
