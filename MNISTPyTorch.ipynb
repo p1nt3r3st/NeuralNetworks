{
 "cells": [
  {
   "cell_type": "code",
   "execution_count": 1,
   "id": "de97f5e5-427a-4e52-9c74-dd9fe91e6d27",
   "metadata": {},
   "outputs": [],
   "source": [
    "import os\n",
    "import json\n",
    "from PIL import Image\n",
    "\n",
    "from tqdm.notebook import tqdm\n",
    "\n",
    "import torch\n",
    "import torch.utils.data as data\n",
    "import torchvision.transforms.v2 as tfs\n",
    "import torch.nn as nn\n",
    "import torch.optim as optim\n",
    "import torch.nn.functional as F\n",
    "from torchvision.datasets import ImageFolder\n",
    "\n",
    "import matplotlib.pyplot as plt"
   ]
  },
  {
   "cell_type": "code",
   "execution_count": 2,
   "id": "89faf9af-7855-4e03-abab-52e0ef005e37",
   "metadata": {},
   "outputs": [],
   "source": [
    "class DigitDataset(data.Dataset):\n",
    "    def __init__(self, path, train: bool=True, transform=None):\n",
    "        self.path = os.path.join(path, \"train\" if train else \"test\")  # path - путь к корневой папке dataset, \"train\" и \"test\" - названия папок в структуре для хранения датасета\n",
    "        self.transform = transform\n",
    "        with open(os.path.join(path, \"format.json\"), \"r\") as fp:\n",
    "            self.format = json.load(fp)\n",
    "\n",
    "        self.length = 0\n",
    "        self.files = []\n",
    "        self.targets = torch.eye(10)\n",
    "\n",
    "        for _dir, _target in self.format.items():  # папка и целевое значение\n",
    "            path = os.path.join(self.path, _dir)  # подключаемся к папке\n",
    "            list_files = os.listdir(path)  # получаем список файлов в каждом каталоге\n",
    "            self.length += len(list_files)  # подсчитываем их количесвто\n",
    "            self.files.extend(map(lambda _x: (os.path.join(path, _x), _target), list_files))  # сопоставляем путь к файлу и целевое значение, записываем это всё в список\n",
    "\n",
    "\n",
    "    def __getitem__(self, item):\n",
    "        path_file, target = self.files[item]\n",
    "        t = self.targets[target]  # тензор one-hot\n",
    "        img = Image.open(path_file)  # картинка, пока что объект PIL\n",
    "\n",
    "        if self.transform:\n",
    "            img = self.transform(img).ravel().float() / 255.0\n",
    "\n",
    "        return img, t\n",
    "\n",
    "    def __len__(self):\n",
    "        return self.length\n",
    "\n",
    "\n",
    "class RavelTransform(nn.Module):\n",
    "    def forward(self, item):\n",
    "        return item.ravel()\n",
    "\n",
    "\n",
    "class DigitNN(nn.Module):\n",
    "    def __init__(self, input_dim, num_hidden, output_dim):\n",
    "        super().__init__()\n",
    "        self.layers = nn.Sequential()\n",
    "        self.layers.add_module('layer_1', nn.Linear(input_dim, num_hidden))\n",
    "        self.layers.add_module('relu', nn.ReLU())\n",
    "        self.layers.add_module('bn_1', nn.BatchNorm1d(num_hidden))\n",
    "        self.layers.add_module('layer_2', nn.Linear(num_hidden, output_dim))\n",
    "    def forward(self, x):\n",
    "        x = self.layers.forward(x)\n",
    "        return x"
   ]
  },
  {
   "cell_type": "code",
   "execution_count": 3,
   "id": "a0ed97b5-b467-4caf-a7b4-f7eabaf70434",
   "metadata": {
    "scrolled": true
   },
   "outputs": [
    {
     "data": {
      "application/vnd.jupyter.widget-view+json": {
       "model_id": "6d28c315e93b4bf890a9d7ed3b6e68bb",
       "version_major": 2,
       "version_minor": 0
      },
      "text/plain": [
       "  0%|          | 0/1313 [00:00<?, ?it/s]"
      ]
     },
     "metadata": {},
     "output_type": "display_data"
    },
    {
     "data": {
      "application/vnd.jupyter.widget-view+json": {
       "model_id": "cb6f9b15556749eb82f189a32fdb52c0",
       "version_major": 2,
       "version_minor": 0
      },
      "text/plain": [
       "  0%|          | 0/563 [00:00<?, ?it/s]"
      ]
     },
     "metadata": {},
     "output_type": "display_data"
    },
    {
     "data": {
      "application/vnd.jupyter.widget-view+json": {
       "model_id": "63934c55d1e54c2a97211c280810d9c6",
       "version_major": 2,
       "version_minor": 0
      },
      "text/plain": [
       "  0%|          | 0/1313 [00:00<?, ?it/s]"
      ]
     },
     "metadata": {},
     "output_type": "display_data"
    },
    {
     "data": {
      "application/vnd.jupyter.widget-view+json": {
       "model_id": "226dd76002834b6d985b1eee307777c8",
       "version_major": 2,
       "version_minor": 0
      },
      "text/plain": [
       "  0%|          | 0/563 [00:00<?, ?it/s]"
      ]
     },
     "metadata": {},
     "output_type": "display_data"
    },
    {
     "data": {
      "application/vnd.jupyter.widget-view+json": {
       "model_id": "f17b12a27c914c37877cc9c841e9ed60",
       "version_major": 2,
       "version_minor": 0
      },
      "text/plain": [
       "  0%|          | 0/1313 [00:00<?, ?it/s]"
      ]
     },
     "metadata": {},
     "output_type": "display_data"
    },
    {
     "data": {
      "application/vnd.jupyter.widget-view+json": {
       "model_id": "1091e8e4fe8c4533b9a20cf40ebe6cce",
       "version_major": 2,
       "version_minor": 0
      },
      "text/plain": [
       "  0%|          | 0/563 [00:00<?, ?it/s]"
      ]
     },
     "metadata": {},
     "output_type": "display_data"
    },
    {
     "data": {
      "application/vnd.jupyter.widget-view+json": {
       "model_id": "7040fe07c1734bf4996b18a5b38fa276",
       "version_major": 2,
       "version_minor": 0
      },
      "text/plain": [
       "  0%|          | 0/1313 [00:00<?, ?it/s]"
      ]
     },
     "metadata": {},
     "output_type": "display_data"
    },
    {
     "data": {
      "application/vnd.jupyter.widget-view+json": {
       "model_id": "4af490ad5cfd4c87b886762bef75aef6",
       "version_major": 2,
       "version_minor": 0
      },
      "text/plain": [
       "  0%|          | 0/563 [00:00<?, ?it/s]"
      ]
     },
     "metadata": {},
     "output_type": "display_data"
    },
    {
     "data": {
      "application/vnd.jupyter.widget-view+json": {
       "model_id": "56b939ac709c4f85818b1aa66b83b655",
       "version_major": 2,
       "version_minor": 0
      },
      "text/plain": [
       "  0%|          | 0/1313 [00:00<?, ?it/s]"
      ]
     },
     "metadata": {},
     "output_type": "display_data"
    },
    {
     "data": {
      "application/vnd.jupyter.widget-view+json": {
       "model_id": "12f7f116615a43fbb8ee3fe46b3a4d0d",
       "version_major": 2,
       "version_minor": 0
      },
      "text/plain": [
       "  0%|          | 0/563 [00:00<?, ?it/s]"
      ]
     },
     "metadata": {},
     "output_type": "display_data"
    },
    {
     "data": {
      "application/vnd.jupyter.widget-view+json": {
       "model_id": "5539df24c7dd43e39ff36e7ebe3378f9",
       "version_major": 2,
       "version_minor": 0
      },
      "text/plain": [
       "  0%|          | 0/1313 [00:00<?, ?it/s]"
      ]
     },
     "metadata": {},
     "output_type": "display_data"
    },
    {
     "data": {
      "application/vnd.jupyter.widget-view+json": {
       "model_id": "c541dee00c454a29b98467ed468541e0",
       "version_major": 2,
       "version_minor": 0
      },
      "text/plain": [
       "  0%|          | 0/563 [00:00<?, ?it/s]"
      ]
     },
     "metadata": {},
     "output_type": "display_data"
    },
    {
     "data": {
      "application/vnd.jupyter.widget-view+json": {
       "model_id": "3acbb930139b40bb94bd48b2c2d41fdd",
       "version_major": 2,
       "version_minor": 0
      },
      "text/plain": [
       "  0%|          | 0/1313 [00:00<?, ?it/s]"
      ]
     },
     "metadata": {},
     "output_type": "display_data"
    },
    {
     "data": {
      "application/vnd.jupyter.widget-view+json": {
       "model_id": "eed2cd43efb5434887c932b5d97495c9",
       "version_major": 2,
       "version_minor": 0
      },
      "text/plain": [
       "  0%|          | 0/563 [00:00<?, ?it/s]"
      ]
     },
     "metadata": {},
     "output_type": "display_data"
    },
    {
     "data": {
      "application/vnd.jupyter.widget-view+json": {
       "model_id": "b31bf1288fdf4abda0865d0822d02260",
       "version_major": 2,
       "version_minor": 0
      },
      "text/plain": [
       "  0%|          | 0/1313 [00:00<?, ?it/s]"
      ]
     },
     "metadata": {},
     "output_type": "display_data"
    },
    {
     "data": {
      "application/vnd.jupyter.widget-view+json": {
       "model_id": "4eee2f9c04b148cd9e3d9cb7d7f08dfc",
       "version_major": 2,
       "version_minor": 0
      },
      "text/plain": [
       "  0%|          | 0/563 [00:00<?, ?it/s]"
      ]
     },
     "metadata": {},
     "output_type": "display_data"
    },
    {
     "data": {
      "application/vnd.jupyter.widget-view+json": {
       "model_id": "b017d7cc82b54763800a8b3bfbb0ae32",
       "version_major": 2,
       "version_minor": 0
      },
      "text/plain": [
       "  0%|          | 0/1313 [00:00<?, ?it/s]"
      ]
     },
     "metadata": {},
     "output_type": "display_data"
    },
    {
     "data": {
      "application/vnd.jupyter.widget-view+json": {
       "model_id": "1a20c36cfc3740bd97ce4f9b766aac7c",
       "version_major": 2,
       "version_minor": 0
      },
      "text/plain": [
       "  0%|          | 0/563 [00:00<?, ?it/s]"
      ]
     },
     "metadata": {},
     "output_type": "display_data"
    },
    {
     "data": {
      "application/vnd.jupyter.widget-view+json": {
       "model_id": "32abcfbfb14e4033a7a67fa1f4417273",
       "version_major": 2,
       "version_minor": 0
      },
      "text/plain": [
       "  0%|          | 0/1313 [00:00<?, ?it/s]"
      ]
     },
     "metadata": {},
     "output_type": "display_data"
    },
    {
     "data": {
      "application/vnd.jupyter.widget-view+json": {
       "model_id": "205a0add9f484572920a25fda7095749",
       "version_major": 2,
       "version_minor": 0
      },
      "text/plain": [
       "  0%|          | 0/563 [00:00<?, ?it/s]"
      ]
     },
     "metadata": {},
     "output_type": "display_data"
    },
    {
     "data": {
      "application/vnd.jupyter.widget-view+json": {
       "model_id": "70eb06aa701149a2bef16bc44fa52b70",
       "version_major": 2,
       "version_minor": 0
      },
      "text/plain": [
       "  0%|          | 0/20 [00:00<?, ?it/s]"
      ]
     },
     "metadata": {},
     "output_type": "display_data"
    },
    {
     "data": {
      "text/plain": [
       "[<matplotlib.lines.Line2D at 0x798acc31db10>]"
      ]
     },
     "execution_count": 3,
     "metadata": {},
     "output_type": "execute_result"
    },
    {
     "data": {
      "image/png": "[encoded data removed]",
      "text/plain": [
       "<Figure size 640x480 with 1 Axes>"
      ]
     },
     "metadata": {},
     "output_type": "display_data"
    }
   ],
   "source": [
    "transforms = tfs.Compose([tfs.ToImage(),\n",
    "                          tfs.ToDtype(torch.uint8),\n",
    "                         tfs.Grayscale(),\n",
    "                          tfs.ToDtype(torch.float32, scale=True),\n",
    "                         RavelTransform()])  # трансформации с данными\n",
    "\n",
    "dataset_mnist = ImageFolder('dataset/train', transform=transforms)  # прописываем путь уже к конкретному каталогу, а не корневому\n",
    "d_train, d_val = data.random_split(dataset_mnist, [0.7, 0.3])  # разделяем выделяем в тренировочной выборке проверочную\n",
    "train_data = data.DataLoader(d_train, batch_size=32, shuffle=True)  # объект-генератор\n",
    "train_data_val = data.DataLoader(d_val, batch_size=32, shuffle=False)\n",
    "\n",
    "model = DigitNN(28 * 28, 128, 10)\n",
    "optimizer = optim.RMSprop(params=model.parameters(), lr=0.01)\n",
    "loss_func = nn.CrossEntropyLoss()\n",
    "\n",
    "epochs = 10\n",
    "best_loss = 1e10\n",
    "best_epoch = 0\n",
    "loss_lst = []\n",
    "loss_lst_val = []\n",
    "\n",
    "model_state_dict = {'tfs': transforms.state_dict(),\n",
    "                   'opt': optimizer.state_dict(),\n",
    "                   'loss_func': loss_func.state_dict(),\n",
    "                   'model': model.state_dict()}  # Создаём словарь для сохранения модели\n",
    "\n",
    "for epoch in range(epochs):\n",
    "    model.train()\n",
    "    \n",
    "    mean_loss = 0\n",
    "    mean_count = 0\n",
    "    \n",
    "    train_tqdm = tqdm(train_data, leave=False)\n",
    "    \n",
    "    for x_train, y_train in train_tqdm:\n",
    "        predict = model.forward(x_train)\n",
    "        loss = loss_func(predict, y_train)\n",
    "\n",
    "        optimizer.zero_grad()\n",
    "        loss.backward()\n",
    "        optimizer.step()\n",
    "\n",
    "        mean_count += 1\n",
    "        mean_loss = 1 / mean_count * loss.item() + (1 - 1 / mean_count) * mean_loss\n",
    "        train_tqdm.set_description(f'Epoch [{epoch + 1}/{epochs}], mean_loss = {mean_loss:.3f}')\n",
    "\n",
    "    model.eval()  # работаем с проверочной (validation) выборкой\n",
    "\n",
    "    Q_val = 0\n",
    "    count_val = 0\n",
    "\n",
    "    val_tqdm = tqdm(train_data_val, leave=False)\n",
    "    for x_val, y_val in val_tqdm:\n",
    "        with torch.no_grad():\n",
    "            pred = model.forward(x_val)\n",
    "            loss = loss_func(pred, y_val)\n",
    "            Q_val += loss.item()\n",
    "            count_val += 1\n",
    "            val_tqdm.set_description(f'Epoch [{epoch + 1}/{epochs}], val_loss = {Q_val / len(train_data_val):.3f}')\n",
    "\n",
    "    Q_val /= count_val\n",
    "    if best_loss > Q_val:\n",
    "        best_loss = Q_val\n",
    "        best_epoch = epoch\n",
    "        model_state_dict['model'] = model.state_dict()\n",
    "    loss_lst.append(mean_loss)\n",
    "    loss_lst_val.append(Q_val)\n",
    "\n",
    "torch.save(model_state_dict, f'model_dnn_{best_epoch}.tar')\n",
    "\n",
    "\n",
    "d_test = ImageFolder('dataset/test', transforms)\n",
    "test_data = data.DataLoader(d_test, batch_size=512, shuffle=False)\n",
    "\n",
    "model.eval()\n",
    "total_accuracy = 0\n",
    "\n",
    "test_tqdm = tqdm(test_data, leave=True)\n",
    "for x_test, y_test in test_tqdm:\n",
    "    predict = model.forward(x_test)\n",
    "    predict = torch.argmax(predict, dim=1)\n",
    "    total_accuracy += torch.sum(predict == y_test).item()\n",
    "\n",
    "    test_tqdm.set_description(f'total_accuracy = {total_accuracy / len(d_test)}') \n",
    "\n",
    "\n",
    "plt.plot(loss_lst, color='blue', label='loss_train')\n",
    "plt.plot(loss_lst_val, color='orange', label='loss_val')"
   ]
  },
  {
   "cell_type": "code",
   "execution_count": null,
   "id": "d9579faa-2530-4de1-9ebd-cfbfbd0c33cc",
   "metadata": {},
   "outputs": [],
   "source": []
  }
 ],
 "metadata": {
  "kernelspec": {
   "display_name": "Python 3 (ipykernel)",
   "language": "python",
   "name": "python3"
  },
  "language_info": {
   "codemirror_mode": {
    "name": "ipython",
    "version": 3
   },
   "file_extension": ".py",
   "mimetype": "text/x-python",
   "name": "python",
   "nbconvert_exporter": "python",
   "pygments_lexer": "ipython3",
   "version": "3.10.12"
  }
 },
 "nbformat": 4,
 "nbformat_minor": 5
}
