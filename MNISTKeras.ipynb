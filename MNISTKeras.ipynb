{
 "cells": [
  {
   "cell_type": "code",
   "execution_count": 1,
   "id": "ca0ae632-354b-409f-918f-cbfb9c43a2b2",
   "metadata": {},
   "outputs": [
    {
     "name": "stderr",
     "output_type": "stream",
     "text": [
      "2024-11-23 12:47:52.235884: I tensorflow/core/platform/cpu_feature_guard.cc:210] This TensorFlow binary is optimized to use available CPU instructions in performance-critical operations.\n",
      "To enable the following instructions: AVX2 FMA, in other operations, rebuild TensorFlow with the appropriate compiler flags.\n"
     ]
    }
   ],
   "source": [
    "import numpy as np\n",
    "import matplotlib.pyplot as plt\n",
    "import tensorflow\n",
    "import keras\n",
    "from keras.datasets import mnist\n",
    "from keras import layers\n",
    "from keras import models\n",
    "from keras.utils import to_categorical\n",
    "from keras import regularizers"
   ]
  },
  {
   "cell_type": "code",
   "execution_count": 2,
   "id": "a371a1a8-2678-4f39-86f3-ad078374edfe",
   "metadata": {},
   "outputs": [],
   "source": [
    "(train_image, train_targets), (test_image, test_targets) = mnist.load_data()"
   ]
  },
  {
   "cell_type": "code",
   "execution_count": 3,
   "id": "5d51db34-cc74-48ca-a36c-64e6fb82e42f",
   "metadata": {},
   "outputs": [],
   "source": [
    "train_image.shape = train_image.shape[0], -1\n",
    "train_image = train_image.astype('float32') / 255\n",
    "\n",
    "test_image.shape = test_image.shape[0], -1\n",
    "test_image = test_image.astype('float32') / 255\n",
    "\n",
    "train_targets = to_categorical(train_targets)\n",
    "test_targets = to_categorical(test_targets)\n",
    "\n",
    "partical_x = train_image[10000:]\n",
    "partical_y = train_targets[10000:]\n",
    "\n",
    "val_x = train_image[:10000]\n",
    "val_y = train_targets[:10000]"
   ]
  },
  {
   "cell_type": "code",
   "execution_count": 4,
   "id": "db3205c2-2ac0-4730-bf6e-44ee1fabd3af",
   "metadata": {
    "scrolled": true
   },
   "outputs": [
    {
     "name": "stderr",
     "output_type": "stream",
     "text": [
      "/home/eugene/.local/lib/python3.10/site-packages/keras/src/layers/core/dense.py:87: UserWarning: Do not pass an `input_shape`/`input_dim` argument to a layer. When using Sequential models, prefer using an `Input(shape)` object as the first layer in the model instead.\n",
      "  super().__init__(activity_regularizer=activity_regularizer, **kwargs)\n"
     ]
    },
    {
     "name": "stdout",
     "output_type": "stream",
     "text": [
      "Epoch 1/10\n",
      "\u001b[1m391/391\u001b[0m \u001b[32m━━━━━━━━━━━━━━━━━━━━\u001b[0m\u001b[37m\u001b[0m \u001b[1m3s\u001b[0m 5ms/step - accuracy: 0.6648 - loss: 1.0213 - val_accuracy: 0.9301 - val_loss: 0.2372\n",
      "Epoch 2/10\n",
      "\u001b[1m391/391\u001b[0m \u001b[32m━━━━━━━━━━━━━━━━━━━━\u001b[0m\u001b[37m\u001b[0m \u001b[1m1s\u001b[0m 3ms/step - accuracy: 0.8962 - loss: 0.3504 - val_accuracy: 0.9465 - val_loss: 0.1818\n",
      "Epoch 3/10\n",
      "\u001b[1m391/391\u001b[0m \u001b[32m━━━━━━━━━━━━━━━━━━━━\u001b[0m\u001b[37m\u001b[0m \u001b[1m1s\u001b[0m 3ms/step - accuracy: 0.9236 - loss: 0.2723 - val_accuracy: 0.9542 - val_loss: 0.1570\n",
      "Epoch 4/10\n",
      "\u001b[1m391/391\u001b[0m \u001b[32m━━━━━━━━━━━━━━━━━━━━\u001b[0m\u001b[37m\u001b[0m \u001b[1m1s\u001b[0m 3ms/step - accuracy: 0.9310 - loss: 0.2401 - val_accuracy: 0.9602 - val_loss: 0.1412\n",
      "Epoch 5/10\n",
      "\u001b[1m391/391\u001b[0m \u001b[32m━━━━━━━━━━━━━━━━━━━━\u001b[0m\u001b[37m\u001b[0m \u001b[1m1s\u001b[0m 3ms/step - accuracy: 0.9384 - loss: 0.2132 - val_accuracy: 0.9630 - val_loss: 0.1362\n",
      "Epoch 6/10\n",
      "\u001b[1m391/391\u001b[0m \u001b[32m━━━━━━━━━━━━━━━━━━━━\u001b[0m\u001b[37m\u001b[0m \u001b[1m1s\u001b[0m 3ms/step - accuracy: 0.9416 - loss: 0.2130 - val_accuracy: 0.9643 - val_loss: 0.1253\n",
      "Epoch 7/10\n",
      "\u001b[1m391/391\u001b[0m \u001b[32m━━━━━━━━━━━━━━━━━━━━\u001b[0m\u001b[37m\u001b[0m \u001b[1m1s\u001b[0m 3ms/step - accuracy: 0.9460 - loss: 0.1879 - val_accuracy: 0.9653 - val_loss: 0.1263\n",
      "Epoch 8/10\n",
      "\u001b[1m391/391\u001b[0m \u001b[32m━━━━━━━━━━━━━━━━━━━━\u001b[0m\u001b[37m\u001b[0m \u001b[1m1s\u001b[0m 3ms/step - accuracy: 0.9463 - loss: 0.1913 - val_accuracy: 0.9681 - val_loss: 0.1221\n",
      "Epoch 9/10\n",
      "\u001b[1m391/391\u001b[0m \u001b[32m━━━━━━━━━━━━━━━━━━━━\u001b[0m\u001b[37m\u001b[0m \u001b[1m1s\u001b[0m 3ms/step - accuracy: 0.9495 - loss: 0.1776 - val_accuracy: 0.9661 - val_loss: 0.1294\n",
      "Epoch 10/10\n",
      "\u001b[1m391/391\u001b[0m \u001b[32m━━━━━━━━━━━━━━━━━━━━\u001b[0m\u001b[37m\u001b[0m \u001b[1m1s\u001b[0m 3ms/step - accuracy: 0.9522 - loss: 0.1730 - val_accuracy: 0.9686 - val_loss: 0.1187\n"
     ]
    }
   ],
   "source": [
    "model = models.Sequential()\n",
    "\n",
    "model.add(layers.Dense(128, activation='relu', input_shape=(784,)))\n",
    "model.add(layers.Dropout(0.5))\n",
    "model.add(layers.Dense(128, activation='relu'))\n",
    "model.add(layers.Dropout(0.5))\n",
    "model.add(layers.Dense(10, activation='softmax'))\n",
    "\n",
    "model.compile(optimizer='rmsprop', loss='categorical_crossentropy', metrics=['accuracy'])\n",
    "\n",
    "history = model.fit(partical_x, partical_y, epochs=10, batch_size=128, validation_data=(val_x, val_y))"
   ]
  },
  {
   "cell_type": "code",
   "execution_count": 5,
   "id": "4835a8fe-0e5e-408e-9ee0-480d0303eaea",
   "metadata": {},
   "outputs": [
    {
     "data": {
      "text/plain": [
       "[<matplotlib.lines.Line2D at 0x762aa22843d0>]"
      ]
     },
     "execution_count": 5,
     "metadata": {},
     "output_type": "execute_result"
    },
    {
     "data": {
      "image/png": "[encoded data removed]",
      "text/plain": [
       "<Figure size 640x480 with 1 Axes>"
      ]
     },
     "metadata": {},
     "output_type": "display_data"
    }
   ],
   "source": [
    "epoch = history.epoch\n",
    "train_acc = history.history['accuracy']\n",
    "val_acc = history.history['val_accuracy']\n",
    "\n",
    "plt.plot(epoch, train_acc)\n",
    "plt.plot(epoch, val_acc, color='orange')"
   ]
  },
  {
   "cell_type": "code",
   "execution_count": 6,
   "id": "f0f8b99b-7807-43a9-b788-52306122de03",
   "metadata": {},
   "outputs": [
    {
     "name": "stdout",
     "output_type": "stream",
     "text": [
      "\u001b[1m313/313\u001b[0m \u001b[32m━━━━━━━━━━━━━━━━━━━━\u001b[0m\u001b[37m\u001b[0m \u001b[1m0s\u001b[0m 1ms/step - accuracy: 0.9667 - loss: 0.1215\n",
      "test_acc=0.9718000292778015\n"
     ]
    }
   ],
   "source": [
    "_, test_acc = model.evaluate(test_image, test_targets)\n",
    "print(f'{test_acc=}')"
   ]
  },
  {
   "cell_type": "code",
   "execution_count": 7,
   "id": "fda6156b-b654-4a8e-a0a5-abb902bb58bf",
   "metadata": {},
   "outputs": [],
   "source": [
    "# Схема написания нейронной сети:\n",
    "# Определить задачи и создать набор данных\n",
    "# Выбор меры успеха (например, точность, ошибка и т.д. - метрики)\n",
    "# Выбор протокола оценки: выделить particial и validation; перекрёстная проверка по К блокам - кросс-валидация; итерационная проверка по К блокам с перемешиванием\n",
    "# Предварительная подготовка данных\n",
    "# разработка модели более совершенной, чем базовый случай\n",
    "# Масштабирование по вертикали - разработка модели с переобучением\n",
    "# регуляризация модели и настройка гипер-параметров\n",
    "# обучить модель на полном наборе данных"
   ]
  },
  {
   "cell_type": "code",
   "execution_count": 8,
   "id": "6080be2d-b727-4f2a-8b10-de04e67a7924",
   "metadata": {},
   "outputs": [],
   "source": [
    "(train_image, train_targets), (test_image, test_targets) = mnist.load_data()\n",
    "\n",
    "train_image = train_image.reshape((60000, 28, 28, 1))\n",
    "train_image = train_image.astype('float32') / 255\n",
    "\n",
    "test_image = test_image.reshape((10000, 28, 28, 1))\n",
    "test_image = test_image.astype('float32') / 255\n",
    "\n",
    "train_targets = to_categorical(train_targets)\n",
    "test_targets = to_categorical(test_targets)\n",
    "\n",
    "particial_x = train_image[10000:]\n",
    "particial_y = train_targets[10000:]\n",
    "\n",
    "validation_x = train_image[:10000]\n",
    "validation_y = train_targets[:10000]"
   ]
  },
  {
   "cell_type": "code",
   "execution_count": 9,
   "id": "f6ada2d2-a374-4a50-958e-a225bba5f6fe",
   "metadata": {},
   "outputs": [
    {
     "name": "stderr",
     "output_type": "stream",
     "text": [
      "/home/eugene/.local/lib/python3.10/site-packages/keras/src/layers/convolutional/base_conv.py:107: UserWarning: Do not pass an `input_shape`/`input_dim` argument to a layer. When using Sequential models, prefer using an `Input(shape)` object as the first layer in the model instead.\n",
      "  super().__init__(activity_regularizer=activity_regularizer, **kwargs)\n"
     ]
    }
   ],
   "source": [
    "model = models.Sequential()\n",
    "model.add(layers.Conv2D(32, (3, 3), activation='relu', padding='same', input_shape=(28, 28, 1))) # padding='valid'(по умолчанию) - уменьшает выходную карту признаков\n",
    "model.add(layers.MaxPooling2D((2, 2)))\n",
    "model.add(layers.Conv2D(64, (3, 3), activation='relu', padding='same')) # padding='same' - увеличивает входную карту признаков, чтобы выходная имела тот же размер, что и входная\n",
    "model.add(layers.MaxPooling2D((2, 2)))\n",
    "model.add(layers.Conv2D(64, (3, 3), activation='relu', padding='same'))\n",
    "model.add(layers.Flatten())\n",
    "model.add(layers.Dense(64, activation='relu'))\n",
    "model.add(layers.Dense(10, activation='softmax'))\n",
    "\n",
    "model.compile(optimizer='rmsprop', loss='categorical_crossentropy', metrics=['accuracy'])\n",
    "\n",
    "# что влияет на размер выходной карты признаков:\n",
    "# padding - дополнение\n",
    "# шаг свёртки\n",
    "# свёртки с пробелами"
   ]
  },
  {
   "cell_type": "code",
   "execution_count": 10,
   "id": "ce500cf7-a6d9-4a14-8f93-bd59c6b15b54",
   "metadata": {},
   "outputs": [
    {
     "name": "stdout",
     "output_type": "stream",
     "text": [
      "Epoch 1/2\n",
      "\u001b[1m469/469\u001b[0m \u001b[32m━━━━━━━━━━━━━━━━━━━━\u001b[0m\u001b[37m\u001b[0m \u001b[1m22s\u001b[0m 44ms/step - accuracy: 0.8497 - loss: 0.4755 - val_accuracy: 0.9825 - val_loss: 0.0542\n",
      "Epoch 2/2\n",
      "\u001b[1m469/469\u001b[0m \u001b[32m━━━━━━━━━━━━━━━━━━━━\u001b[0m\u001b[37m\u001b[0m \u001b[1m20s\u001b[0m 44ms/step - accuracy: 0.9853 - loss: 0.0475 - val_accuracy: 0.9870 - val_loss: 0.0404\n"
     ]
    }
   ],
   "source": [
    "history = model.fit(train_image, train_targets, epochs=2, batch_size=128, validation_data=(test_image, test_targets))"
   ]
  },
  {
   "cell_type": "code",
   "execution_count": 11,
   "id": "49b32251-d3e9-486d-8083-3a633252e6e8",
   "metadata": {},
   "outputs": [
    {
     "name": "stdout",
     "output_type": "stream",
     "text": [
      "\u001b[1m313/313\u001b[0m \u001b[32m━━━━━━━━━━━━━━━━━━━━\u001b[0m\u001b[37m\u001b[0m \u001b[1m1s\u001b[0m 4ms/step - accuracy: 0.9844 - loss: 0.0501\n"
     ]
    }
   ],
   "source": [
    "test_loss, test_acc = model.evaluate(test_image, test_targets)"
   ]
  },
  {
   "cell_type": "code",
   "execution_count": 12,
   "id": "2a63688b-e0cb-4d94-8c2b-5c711bd7ecd5",
   "metadata": {},
   "outputs": [
    {
     "name": "stdout",
     "output_type": "stream",
     "text": [
      "test_acc=0.9869999885559082\n"
     ]
    }
   ],
   "source": [
    "print(f'{test_acc=}')"
   ]
  },
  {
   "cell_type": "code",
   "execution_count": 13,
   "id": "0a3046df-d456-4a90-bb9a-502e5a9bef88",
   "metadata": {},
   "outputs": [
    {
     "name": "stdout",
     "output_type": "stream",
     "text": [
      "dict_keys(['accuracy', 'loss', 'val_accuracy', 'val_loss'])\n"
     ]
    },
    {
     "data": {
      "image/png": "[encoded data removed]",
      "text/plain": [
       "<Figure size 640x480 with 1 Axes>"
      ]
     },
     "metadata": {},
     "output_type": "display_data"
    }
   ],
   "source": [
    "epoch = history.epoch\n",
    "acc = history.history['val_accuracy']\n",
    "plt.plot(epoch, acc)\n",
    "print(history.history.keys())"
   ]
  },
  {
   "cell_type": "code",
   "execution_count": null,
   "id": "44332502-1e1d-4243-a514-db053fcaec49",
   "metadata": {},
   "outputs": [],
   "source": []
  }
 ],
 "metadata": {
  "kernelspec": {
   "display_name": "Python 3 (ipykernel)",
   "language": "python",
   "name": "python3"
  },
  "language_info": {
   "codemirror_mode": {
    "name": "ipython",
    "version": 3
   },
   "file_extension": ".py",
   "mimetype": "text/x-python",
   "name": "python",
   "nbconvert_exporter": "python",
   "pygments_lexer": "ipython3",
   "version": "3.10.12"
  }
 },
 "nbformat": 4,
 "nbformat_minor": 5
}
